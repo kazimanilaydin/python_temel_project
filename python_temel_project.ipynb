{
  "nbformat": 4,
  "nbformat_minor": 0,
  "metadata": {
    "colab": {
      "name": "python_temel_project.ipynb",
      "provenance": []
    },
    "kernelspec": {
      "name": "python3",
      "display_name": "Python 3"
    },
    "language_info": {
      "name": "python"
    }
  },
  "cells": [
    {
      "cell_type": "code",
      "execution_count": null,
      "metadata": {
        "id": "4LmGPoP37F0O"
      },
      "outputs": [],
      "source": [
        "\"\"\"\n",
        "\n",
        "1- Bir listeyi düzleştiren (flatten) fonksiyon yazın. Elemanları birden çok katmanlı listelerden ([[3],2] gibi) oluşabileceği gibi, non-scalar verilerden de oluşabilir. Örnek olarak:\n",
        "\n",
        "input: [[1,'a',['cat'],2],[[[3]],'dog'],4,5]\n",
        "\n",
        "output: [1,'a','cat',2,3,'dog',4,5]\n",
        "\n",
        "2- Verilen listenin içindeki elemanları tersine döndüren bir fonksiyon yazın. Eğer listenin içindeki elemanlar da liste içeriyorsa onların elemanlarını da tersine döndürün. Örnek olarak:\n",
        "\n",
        "input: [[1, 2], [3, 4], [5, 6, 7]]\n",
        "\n",
        "output: [[[7, 6, 5], [4, 3], [2, 1]]\n",
        "\n",
        "\"\"\""
      ]
    },
    {
      "cell_type": "code",
      "source": [
        "def flatten(lst):\n",
        "    if bool(lst) == False:\n",
        "        return lst\n",
        " \n",
        "    if isinstance(lst[0], list):\n",
        "        return flatten(*lst[:1]) + flatten(lst[1:])\n",
        " \n",
        "    return lst[:1] + flatten(lst[1:])      "
      ],
      "metadata": {
        "id": "D9NgXdgx7K1Z"
      },
      "execution_count": 2,
      "outputs": []
    },
    {
      "cell_type": "code",
      "source": [
        "\"\"\"\n",
        "    TESTING\n",
        "\"\"\"\n",
        "\n",
        "print(\"TEST1\\n\", end=\"\\n\")\n",
        "\n",
        "testArr1Initial = [[1,2,[3],4],[[[5]],6],7,8]\n",
        "\n",
        "print(\"Test1 > Initial state of the array: \", testArr1Initial)\n",
        "\n",
        "testArr1Result  = flatten(testArr1Initial)\n",
        "\n",
        "print(\"Test1 > Latest status of the array: \", testArr1Result)\n",
        "\n",
        "print(\"\\nTEST2\\n\", end=\"\\n\")\n",
        "\n",
        "testArr2Initial = [[1,'a',['cat'],2],[[[3]],'dog'],4,5]\n",
        "\n",
        "print(\"Test2 > Initial state of the array: \", testArr2Initial)\n",
        "\n",
        "testArr2Result  = flatten(testArr2Initial)\n",
        "\n",
        "print(\"Test2 > Latest status of the array: \", testArr2Result)"
      ],
      "metadata": {
        "colab": {
          "base_uri": "https://localhost:8080/"
        },
        "id": "XzQE9cLQ7WNI",
        "outputId": "c9e6982b-d96b-4bf4-8b13-d8ad137c505c"
      },
      "execution_count": 3,
      "outputs": [
        {
          "output_type": "stream",
          "name": "stdout",
          "text": [
            "TEST1\n",
            "\n",
            "Test1 > Initial state of the array:  [[1, 2, [3], 4], [[[5]], 6], 7, 8]\n",
            "Test1 > Latest status of the array:  [1, 2, 3, 4, 5, 6, 7, 8]\n",
            "\n",
            "TEST2\n",
            "\n",
            "Test2 > Initial state of the array:  [[1, 'a', ['cat'], 2], [[[3]], 'dog'], 4, 5]\n",
            "Test2 > Latest status of the array:  [1, 'a', 'cat', 2, 3, 'dog', 4, 5]\n"
          ]
        }
      ]
    },
    {
      "cell_type": "code",
      "source": [
        "def reverse(lst):\n",
        "    lst.reverse()\n",
        "\n",
        "    for item in lst:\n",
        "        if isinstance(item, list):\n",
        "            for sublist in item:\n",
        "                if isinstance(sublist, list):\n",
        "                    sublist.reverse()\n",
        "            item.reverse()\n",
        "\n",
        "    return lst"
      ],
      "metadata": {
        "id": "-FHr4KG4_Qp3"
      },
      "execution_count": 4,
      "outputs": []
    },
    {
      "cell_type": "code",
      "source": [
        "\"\"\"\n",
        "    TESTING\n",
        "\"\"\"\n",
        "\n",
        "print(\"TEST1\\n\", end=\"\\n\")\n",
        "\n",
        "testArr1Initial = [[1, 4, [4,2]], [3, 4], [5, 6, 7]]\n",
        "\n",
        "print(\"Test1 > Initial state of the array: \", testArr1Initial)\n",
        "\n",
        "testArr1Result  = reverse(testArr1Initial)\n",
        "\n",
        "print(\"Test1 > Latest status of the array: \", testArr1Result)\n",
        "\n",
        "print(\"\\nTEST2\\n\", end=\"\\n\")\n",
        "\n",
        "testArr2Initial = [[1, 2], [3, 4], [5, 6, 7]]\n",
        "\n",
        "print(\"Test2 > Initial state of the array: \", testArr2Initial)\n",
        "\n",
        "testArr2Result  = reverse(testArr2Initial)\n",
        "\n",
        "print(\"Test2 > Latest status of the array: \", testArr2Result)"
      ],
      "metadata": {
        "colab": {
          "base_uri": "https://localhost:8080/"
        },
        "id": "6ZM6nxHM_pi6",
        "outputId": "577e46e1-cdcc-468e-fe90-cc51a1441b08"
      },
      "execution_count": 5,
      "outputs": [
        {
          "output_type": "stream",
          "name": "stdout",
          "text": [
            "TEST1\n",
            "\n",
            "Test1 > Initial state of the array:  [[1, 4, [4, 2]], [3, 4], [5, 6, 7]]\n",
            "Test1 > Latest status of the array:  [[7, 6, 5], [4, 3], [[2, 4], 4, 1]]\n",
            "\n",
            "TEST2\n",
            "\n",
            "Test2 > Initial state of the array:  [[1, 2], [3, 4], [5, 6, 7]]\n",
            "Test2 > Latest status of the array:  [[7, 6, 5], [4, 3], [2, 1]]\n"
          ]
        }
      ]
    }
  ]
}